{
 "cells": [
  {
   "cell_type": "code",
   "execution_count": 19,
   "id": "225b09c8",
   "metadata": {},
   "outputs": [],
   "source": [
    "class Student: \n",
    "    def __init__(self,name,course,gender,age):\n",
    "        self.name = name\n",
    "        self.course = course\n",
    "        self.gender = gender\n",
    "        self.age = age\n"
   ]
  },
  {
   "cell_type": "code",
   "execution_count": 20,
   "id": "dcabb0e8",
   "metadata": {},
   "outputs": [],
   "source": [
    "Valen = Student('Valen','data analyst','female',33)"
   ]
  },
  {
   "cell_type": "code",
   "execution_count": 21,
   "id": "5e3cf38e",
   "metadata": {},
   "outputs": [
    {
     "data": {
      "text/plain": [
       "33"
      ]
     },
     "execution_count": 21,
     "metadata": {},
     "output_type": "execute_result"
    }
   ],
   "source": [
    "Valen.age"
   ]
  },
  {
   "cell_type": "code",
   "execution_count": 23,
   "id": "688d2041",
   "metadata": {},
   "outputs": [],
   "source": [
    "students = ['Feras', 'Bruna', 'Yan']"
   ]
  },
  {
   "cell_type": "code",
   "execution_count": 24,
   "id": "ade7be06",
   "metadata": {},
   "outputs": [
    {
     "data": {
      "text/plain": [
       "['Feras', 'Bruna', 'Yan']"
      ]
     },
     "execution_count": 24,
     "metadata": {},
     "output_type": "execute_result"
    }
   ],
   "source": [
    "students"
   ]
  },
  {
   "cell_type": "code",
   "execution_count": 25,
   "id": "672a9496",
   "metadata": {},
   "outputs": [],
   "source": [
    "pets = {'Kaan': 'cat','Tahora': 'turtle'}\n"
   ]
  },
  {
   "cell_type": "code",
   "execution_count": 27,
   "id": "d31bb560",
   "metadata": {},
   "outputs": [
    {
     "data": {
      "text/plain": [
       "'cat'"
      ]
     },
     "execution_count": 27,
     "metadata": {},
     "output_type": "execute_result"
    }
   ],
   "source": [
    "pets['Kaan']"
   ]
  },
  {
   "cell_type": "code",
   "execution_count": 28,
   "id": "db6cdf8e",
   "metadata": {},
   "outputs": [
    {
     "data": {
      "text/plain": [
       "dict_keys(['Kaan', 'Tahora'])"
      ]
     },
     "execution_count": 28,
     "metadata": {},
     "output_type": "execute_result"
    }
   ],
   "source": [
    "pets.keys()"
   ]
  },
  {
   "cell_type": "code",
   "execution_count": 29,
   "id": "7f91050d",
   "metadata": {},
   "outputs": [
    {
     "data": {
      "text/plain": [
       "dict_values(['cat', 'turtle'])"
      ]
     },
     "execution_count": 29,
     "metadata": {},
     "output_type": "execute_result"
    }
   ],
   "source": [
    "pets.values()"
   ]
  },
  {
   "cell_type": "code",
   "execution_count": 30,
   "id": "26e16c1d",
   "metadata": {},
   "outputs": [],
   "source": [
    "lists_of_pets = list(pets.values())"
   ]
  },
  {
   "cell_type": "code",
   "execution_count": 31,
   "id": "460434eb",
   "metadata": {},
   "outputs": [
    {
     "data": {
      "text/plain": [
       "['cat', 'turtle']"
      ]
     },
     "execution_count": 31,
     "metadata": {},
     "output_type": "execute_result"
    }
   ],
   "source": [
    "lists_of_pets"
   ]
  },
  {
   "cell_type": "code",
   "execution_count": 33,
   "id": "42a7af40",
   "metadata": {},
   "outputs": [
    {
     "name": "stdout",
     "output_type": "stream",
     "text": [
      "cat\n",
      "turtle\n"
     ]
    }
   ],
   "source": [
    "for pet in lists_of_pets:  #here you can also put i instead of 'pet'\n",
    "    print(pet)"
   ]
  },
  {
   "cell_type": "code",
   "execution_count": 34,
   "id": "e56233f7",
   "metadata": {},
   "outputs": [
    {
     "data": {
      "text/plain": [
       "{'Kaan': 'cat', 'Tahora': 'turtle'}"
      ]
     },
     "execution_count": 34,
     "metadata": {},
     "output_type": "execute_result"
    }
   ],
   "source": [
    "pets"
   ]
  },
  {
   "cell_type": "code",
   "execution_count": 35,
   "id": "aa263219",
   "metadata": {},
   "outputs": [
    {
     "data": {
      "text/plain": [
       "dict_items([('Kaan', 'cat'), ('Tahora', 'turtle')])"
      ]
     },
     "execution_count": 35,
     "metadata": {},
     "output_type": "execute_result"
    }
   ],
   "source": [
    "pets.items()"
   ]
  },
  {
   "cell_type": "code",
   "execution_count": 36,
   "id": "cb57c628",
   "metadata": {},
   "outputs": [
    {
     "name": "stdout",
     "output_type": "stream",
     "text": [
      "('Kaan', 'cat')\n",
      "('Tahora', 'turtle')\n"
     ]
    }
   ],
   "source": [
    "for element in pets.items():\n",
    "    print(element)"
   ]
  },
  {
   "cell_type": "code",
   "execution_count": 39,
   "id": "11242860",
   "metadata": {},
   "outputs": [
    {
     "name": "stdout",
     "output_type": "stream",
     "text": [
      "Kaan\n",
      "Tahora\n"
     ]
    }
   ],
   "source": [
    "for person, pet in pets.items():\n",
    "    print(person)"
   ]
  },
  {
   "cell_type": "code",
   "execution_count": null,
   "id": "5c42ede9",
   "metadata": {},
   "outputs": [],
   "source": [
    "#Lists and list comprehension "
   ]
  },
  {
   "cell_type": "code",
   "execution_count": 1,
   "id": "cd21bb27",
   "metadata": {},
   "outputs": [],
   "source": [
    "small_list= list(range(11))"
   ]
  },
  {
   "cell_type": "code",
   "execution_count": 2,
   "id": "7d0e18f8",
   "metadata": {},
   "outputs": [
    {
     "data": {
      "text/plain": [
       "[0, 1, 2, 3, 4, 5, 6, 7, 8, 9, 10]"
      ]
     },
     "execution_count": 2,
     "metadata": {},
     "output_type": "execute_result"
    }
   ],
   "source": [
    "small_list"
   ]
  },
  {
   "cell_type": "code",
   "execution_count": 5,
   "id": "fd34191a",
   "metadata": {},
   "outputs": [],
   "source": [
    "squared_list = []\n",
    "for i in small_list:\n",
    "    squared_list.append(i**2)"
   ]
  },
  {
   "cell_type": "code",
   "execution_count": 7,
   "id": "e68e3475",
   "metadata": {},
   "outputs": [
    {
     "data": {
      "text/plain": [
       "[0, 1, 4, 9, 16, 25, 36, 49, 64, 81, 100]"
      ]
     },
     "execution_count": 7,
     "metadata": {},
     "output_type": "execute_result"
    }
   ],
   "source": [
    "squared_list"
   ]
  },
  {
   "cell_type": "code",
   "execution_count": 12,
   "id": "8769f533",
   "metadata": {},
   "outputs": [],
   "source": [
    "squared_list_comprehension = [i**2 for i in small_list]"
   ]
  },
  {
   "cell_type": "code",
   "execution_count": 13,
   "id": "fcd0df11",
   "metadata": {},
   "outputs": [
    {
     "data": {
      "text/plain": [
       "[0, 1, 4, 9, 16, 25, 36, 49, 64, 81, 100]"
      ]
     },
     "execution_count": 13,
     "metadata": {},
     "output_type": "execute_result"
    }
   ],
   "source": [
    "squared_list_comprehension"
   ]
  },
  {
   "cell_type": "code",
   "execution_count": 9,
   "id": "6f660b6f",
   "metadata": {},
   "outputs": [],
   "source": [
    "# Students to only have names: \n",
    "students = ['Anaswara Vijayan',\n",
    " 'Bruna Santos',\n",
    " 'Bryan Dunleavy',\n",
    " 'Feras Rafeh',\n",
    " 'Geneva Uy',\n",
    " 'Iranel González',\n",
    " 'Ivanna Pivtorak',\n",
    " 'Jan Hildebrand',\n",
    " 'Kaan Dural',\n",
    " 'Tahora Husaini',\n",
    " 'Tomas Renaudo',\n",
    " 'Valentina Delgado']\n"
   ]
  },
  {
   "cell_type": "code",
   "execution_count": 10,
   "id": "3aa16c91",
   "metadata": {},
   "outputs": [],
   "source": [
    "first_names = []\n",
    "for student in students:\n",
    "    first_names.append(student.split()[0]) #the index 0 is because I'm telling them to split the first element only \n"
   ]
  },
  {
   "cell_type": "code",
   "execution_count": 11,
   "id": "f3bbc389",
   "metadata": {},
   "outputs": [
    {
     "data": {
      "text/plain": [
       "['Anaswara',\n",
       " 'Bruna',\n",
       " 'Bryan',\n",
       " 'Feras',\n",
       " 'Geneva',\n",
       " 'Iranel',\n",
       " 'Ivanna',\n",
       " 'Jan',\n",
       " 'Kaan',\n",
       " 'Tahora',\n",
       " 'Tomas',\n",
       " 'Valentina']"
      ]
     },
     "execution_count": 11,
     "metadata": {},
     "output_type": "execute_result"
    }
   ],
   "source": [
    "first_names"
   ]
  },
  {
   "cell_type": "code",
   "execution_count": 16,
   "id": "f5f51ad0",
   "metadata": {},
   "outputs": [],
   "source": [
    "#in list comprehension\n",
    "surname_list = [student.split()[-1] for student in students]"
   ]
  },
  {
   "cell_type": "code",
   "execution_count": 17,
   "id": "a01fb47e",
   "metadata": {},
   "outputs": [
    {
     "data": {
      "text/plain": [
       "['Vijayan',\n",
       " 'Santos',\n",
       " 'Dunleavy',\n",
       " 'Rafeh',\n",
       " 'Uy',\n",
       " 'González',\n",
       " 'Pivtorak',\n",
       " 'Hildebrand',\n",
       " 'Dural',\n",
       " 'Husaini',\n",
       " 'Renaudo',\n",
       " 'Delgado']"
      ]
     },
     "execution_count": 17,
     "metadata": {},
     "output_type": "execute_result"
    }
   ],
   "source": [
    "surname_list"
   ]
  },
  {
   "cell_type": "code",
   "execution_count": 18,
   "id": "c2a49c84",
   "metadata": {},
   "outputs": [],
   "source": [
    "# List comprehensions in nested loops \n",
    "\n",
    "my_list = [[1,2,3],[1,2,3]]\n",
    "flat_list=[]\n",
    "\n",
    "for sublist in my_list:\n",
    "    for item in sublist:\n",
    "        flat_list.append(item)"
   ]
  },
  {
   "cell_type": "code",
   "execution_count": 20,
   "id": "d88c3eca",
   "metadata": {},
   "outputs": [
    {
     "data": {
      "text/plain": [
       "[1, 2, 3, 1, 2, 3]"
      ]
     },
     "execution_count": 20,
     "metadata": {},
     "output_type": "execute_result"
    }
   ],
   "source": [
    "flat_list"
   ]
  },
  {
   "cell_type": "code",
   "execution_count": 21,
   "id": "0d9ddc26",
   "metadata": {},
   "outputs": [],
   "source": [
    "flat_list = [item for sublist in my_list for item in sublist]"
   ]
  },
  {
   "cell_type": "code",
   "execution_count": 22,
   "id": "48c4cc68",
   "metadata": {},
   "outputs": [
    {
     "data": {
      "text/plain": [
       "[1, 2, 3, 1, 2, 3]"
      ]
     },
     "execution_count": 22,
     "metadata": {},
     "output_type": "execute_result"
    }
   ],
   "source": [
    "flat_list"
   ]
  },
  {
   "cell_type": "code",
   "execution_count": 23,
   "id": "f1045c7d",
   "metadata": {},
   "outputs": [
    {
     "name": "stdout",
     "output_type": "stream",
     "text": [
      "The Zen of Python, by Tim Peters\n",
      "\n",
      "Beautiful is better than ugly.\n",
      "Explicit is better than implicit.\n",
      "Simple is better than complex.\n",
      "Complex is better than complicated.\n",
      "Flat is better than nested.\n",
      "Sparse is better than dense.\n",
      "Readability counts.\n",
      "Special cases aren't special enough to break the rules.\n",
      "Although practicality beats purity.\n",
      "Errors should never pass silently.\n",
      "Unless explicitly silenced.\n",
      "In the face of ambiguity, refuse the temptation to guess.\n",
      "There should be one-- and preferably only one --obvious way to do it.\n",
      "Although that way may not be obvious at first unless you're Dutch.\n",
      "Now is better than never.\n",
      "Although never is often better than *right* now.\n",
      "If the implementation is hard to explain, it's a bad idea.\n",
      "If the implementation is easy to explain, it may be a good idea.\n",
      "Namespaces are one honking great idea -- let's do more of those!\n"
     ]
    }
   ],
   "source": [
    "import this"
   ]
  },
  {
   "cell_type": "code",
   "execution_count": 24,
   "id": "86e459a7",
   "metadata": {},
   "outputs": [],
   "source": [
    "import antigravity"
   ]
  },
  {
   "cell_type": "code",
   "execution_count": 29,
   "id": "ac7b8b07",
   "metadata": {},
   "outputs": [],
   "source": [
    "big_list = [['Kaan', 'Feras', 'Tomas'], ['Bruna', 'Ira', 'Valentina']]"
   ]
  },
  {
   "cell_type": "code",
   "execution_count": 31,
   "id": "15e57f0e",
   "metadata": {},
   "outputs": [],
   "source": [
    "big_list = [item for sublist in big_list for item in sublist]"
   ]
  },
  {
   "cell_type": "code",
   "execution_count": 32,
   "id": "3325fbee",
   "metadata": {},
   "outputs": [
    {
     "data": {
      "text/plain": [
       "['Kaan', 'Feras', 'Tomas', 'Bruna', 'Ira', 'Valentina']"
      ]
     },
     "execution_count": 32,
     "metadata": {},
     "output_type": "execute_result"
    }
   ],
   "source": [
    "big_list"
   ]
  },
  {
   "cell_type": "code",
   "execution_count": null,
   "id": "26c23d4c",
   "metadata": {},
   "outputs": [],
   "source": []
  },
  {
   "cell_type": "code",
   "execution_count": 33,
   "id": "0638be0b",
   "metadata": {},
   "outputs": [
    {
     "data": {
      "text/plain": [
       "['Kaan',\n",
       " 'Feras',\n",
       " 'Tomas',\n",
       " 'Bruna',\n",
       " 'Ira',\n",
       " 'Valentina',\n",
       " 'Jan',\n",
       " 'Anaswara',\n",
       " 'Ivanna']"
      ]
     },
     "execution_count": 33,
     "metadata": {},
     "output_type": "execute_result"
    }
   ],
   "source": [
    "#Comprehension list, a list that has two lists that has two lists\n",
    "big_list = [[[\"Kaan\", \"Feras\", \"Tomas\"],[\"Bruna\", \"Ira\", \"Valentina\"]],\\\n",
    "            [[\"Jan\", \"Anaswara\", \"Ivanna\"]]]\n",
    "flat_list = [item for sublist in big_list for subsublist in sublist for item in subsublist]\n",
    "flat_list"
   ]
  },
  {
   "cell_type": "markdown",
   "id": "be04cd3d",
   "metadata": {},
   "source": [
    "Prubas de función Map"
   ]
  },
  {
   "cell_type": "code",
   "execution_count": 1,
   "id": "93c509aa",
   "metadata": {},
   "outputs": [
    {
     "data": {
      "text/plain": [
       "[1, 4, 9]"
      ]
     },
     "execution_count": 1,
     "metadata": {},
     "output_type": "execute_result"
    }
   ],
   "source": [
    "my_list = [1, 2, 3]\n",
    "list(map(lambda x:x**2, my_list))"
   ]
  },
  {
   "cell_type": "code",
   "execution_count": null,
   "id": "7ec42822",
   "metadata": {},
   "outputs": [],
   "source": []
  },
  {
   "cell_type": "code",
   "execution_count": null,
   "id": "e36c1895",
   "metadata": {},
   "outputs": [],
   "source": []
  }
 ],
 "metadata": {
  "kernelspec": {
   "display_name": "Python 3 (ipykernel)",
   "language": "python",
   "name": "python3"
  },
  "language_info": {
   "codemirror_mode": {
    "name": "ipython",
    "version": 3
   },
   "file_extension": ".py",
   "mimetype": "text/x-python",
   "name": "python",
   "nbconvert_exporter": "python",
   "pygments_lexer": "ipython3",
   "version": "3.10.9"
  }
 },
 "nbformat": 4,
 "nbformat_minor": 5
}
