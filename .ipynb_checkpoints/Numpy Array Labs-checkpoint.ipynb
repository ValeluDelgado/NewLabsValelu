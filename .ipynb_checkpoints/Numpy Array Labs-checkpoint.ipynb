{
 "cells": [
  {
   "cell_type": "code",
   "execution_count": null,
   "id": "ed179653",
   "metadata": {},
   "outputs": [],
   "source": [
    "#1. Import the numpy package under the name `np` (★☆☆)\n",
    "#`hint: import … as`"
   ]
  },
  {
   "cell_type": "code",
   "execution_count": 2,
   "id": "27b8ebaf",
   "metadata": {},
   "outputs": [],
   "source": [
    "import numpy as np "
   ]
  },
  {
   "cell_type": "code",
   "execution_count": 8,
   "id": "0e4b4ff3",
   "metadata": {},
   "outputs": [
    {
     "name": "stdout",
     "output_type": "stream",
     "text": [
      "Help on function diag in module numpy:\n",
      "\n",
      "diag(v, k=0)\n",
      "    Extract a diagonal or construct a diagonal array.\n",
      "    \n",
      "    See the more detailed documentation for ``numpy.diagonal`` if you use this\n",
      "    function to extract a diagonal and wish to write to the resulting array;\n",
      "    whether it returns a copy or a view depends on what version of numpy you\n",
      "    are using.\n",
      "    \n",
      "    Parameters\n",
      "    ----------\n",
      "    v : array_like\n",
      "        If `v` is a 2-D array, return a copy of its `k`-th diagonal.\n",
      "        If `v` is a 1-D array, return a 2-D array with `v` on the `k`-th\n",
      "        diagonal.\n",
      "    k : int, optional\n",
      "        Diagonal in question. The default is 0. Use `k>0` for diagonals\n",
      "        above the main diagonal, and `k<0` for diagonals below the main\n",
      "        diagonal.\n",
      "    \n",
      "    Returns\n",
      "    -------\n",
      "    out : ndarray\n",
      "        The extracted diagonal or constructed diagonal array.\n",
      "    \n",
      "    See Also\n",
      "    --------\n",
      "    diagonal : Return specified diagonals.\n",
      "    diagflat : Create a 2-D array with the flattened input as a diagonal.\n",
      "    trace : Sum along diagonals.\n",
      "    triu : Upper triangle of an array.\n",
      "    tril : Lower triangle of an array.\n",
      "    \n",
      "    Examples\n",
      "    --------\n",
      "    >>> x = np.arange(9).reshape((3,3))\n",
      "    >>> x\n",
      "    array([[0, 1, 2],\n",
      "           [3, 4, 5],\n",
      "           [6, 7, 8]])\n",
      "    \n",
      "    >>> np.diag(x)\n",
      "    array([0, 4, 8])\n",
      "    >>> np.diag(x, k=1)\n",
      "    array([1, 5])\n",
      "    >>> np.diag(x, k=-1)\n",
      "    array([3, 7])\n",
      "    \n",
      "    >>> np.diag(np.diag(x))\n",
      "    array([[0, 0, 0],\n",
      "           [0, 4, 0],\n",
      "           [0, 0, 8]])\n",
      "\n"
     ]
    }
   ],
   "source": [
    "help(np.diag)"
   ]
  },
  {
   "cell_type": "code",
   "execution_count": null,
   "id": "214ae0b8",
   "metadata": {},
   "outputs": [],
   "source": [
    "#2. Create a null vector of size 10 (★☆☆)\n",
    "#`hint: np.zeros`"
   ]
  },
  {
   "cell_type": "code",
   "execution_count": 2,
   "id": "a36e9b48",
   "metadata": {},
   "outputs": [
    {
     "name": "stdout",
     "output_type": "stream",
     "text": [
      "[0. 0. 0. 0. 0. 0. 0. 0. 0. 0.]\n"
     ]
    }
   ],
   "source": [
    "x = np.zeros(10)\n",
    "print(x)"
   ]
  },
  {
   "cell_type": "code",
   "execution_count": null,
   "id": "406130d8",
   "metadata": {},
   "outputs": [],
   "source": [
    "#3. Create a null vector of size 10 but the fifth value which is 1 (★☆☆)\n",
    "#`hint: array[4]"
   ]
  },
  {
   "cell_type": "code",
   "execution_count": 3,
   "id": "e29d87a8",
   "metadata": {},
   "outputs": [
    {
     "name": "stdout",
     "output_type": "stream",
     "text": [
      "[0. 0. 0. 0. 1. 0. 0. 0. 0. 0.]\n"
     ]
    }
   ],
   "source": [
    "x = np.zeros(10)\n",
    "x[4] = 1\n",
    "print(x)"
   ]
  },
  {
   "cell_type": "code",
   "execution_count": null,
   "id": "9d148d27",
   "metadata": {},
   "outputs": [],
   "source": [
    "#4. Create a vector with values ranging from 10 to 49 (★☆☆)\n",
    "#`hint: arange`"
   ]
  },
  {
   "cell_type": "code",
   "execution_count": 4,
   "id": "92b26618",
   "metadata": {},
   "outputs": [
    {
     "name": "stdout",
     "output_type": "stream",
     "text": [
      "[10 11 12 13 14 15 16 17 18 19 20 21 22 23 24 25 26 27 28 29 30 31 32 33\n",
      " 34 35 36 37 38 39 40 41 42 43 44 45 46 47 48 49]\n"
     ]
    }
   ],
   "source": [
    "x = np.arange(10,50)\n",
    "print(x)\n"
   ]
  },
  {
   "cell_type": "code",
   "execution_count": null,
   "id": "f6bc85a5",
   "metadata": {},
   "outputs": [],
   "source": [
    "# 5. Create a 3x3 matrix with values ranging from 0 to 8 (★☆☆)\n",
    "#`hint: reshape`"
   ]
  },
  {
   "cell_type": "code",
   "execution_count": 10,
   "id": "62b4564e",
   "metadata": {},
   "outputs": [
    {
     "name": "stdout",
     "output_type": "stream",
     "text": [
      "[[0 1 2]\n",
      " [3 4 5]\n",
      " [6 7 8]]\n"
     ]
    }
   ],
   "source": [
    "x = np.arange(0,9).reshape((3,3))\n",
    "print(x)"
   ]
  },
  {
   "cell_type": "code",
   "execution_count": null,
   "id": "1cd4780c",
   "metadata": {},
   "outputs": [],
   "source": [
    "#6. Find indices of non-zero elements from [1,2,0,0,4,0] (★☆☆)\n",
    "#`hint: np.nonzero`"
   ]
  },
  {
   "cell_type": "code",
   "execution_count": 11,
   "id": "d7c486c3",
   "metadata": {},
   "outputs": [
    {
     "data": {
      "text/plain": [
       "(array([0, 1, 4]),)"
      ]
     },
     "execution_count": 11,
     "metadata": {},
     "output_type": "execute_result"
    }
   ],
   "source": [
    "np.nonzero([1,2,0,0,4,0])"
   ]
  },
  {
   "cell_type": "code",
   "execution_count": null,
   "id": "a44ce671",
   "metadata": {},
   "outputs": [],
   "source": [
    "#7. Create a 3x3 identity matrix (★☆☆)\n",
    "#`hint: np.eye"
   ]
  },
  {
   "cell_type": "code",
   "execution_count": 12,
   "id": "979965cb",
   "metadata": {},
   "outputs": [
    {
     "data": {
      "text/plain": [
       "array([[1., 0., 0.],\n",
       "       [0., 1., 0.],\n",
       "       [0., 0., 1.]])"
      ]
     },
     "execution_count": 12,
     "metadata": {},
     "output_type": "execute_result"
    }
   ],
   "source": [
    "np.eye(3)"
   ]
  },
  {
   "cell_type": "code",
   "execution_count": null,
   "id": "0192b65d",
   "metadata": {},
   "outputs": [],
   "source": [
    "# 8. Create a 3x3x3 array with random values (★☆☆)\n",
    "#`hint: np.random.random`"
   ]
  },
  {
   "cell_type": "code",
   "execution_count": 13,
   "id": "b91b8c41",
   "metadata": {},
   "outputs": [
    {
     "data": {
      "text/plain": [
       "array([[[0.96403033, 0.74306433, 0.76217103],\n",
       "        [0.74060913, 0.63312093, 0.84961347],\n",
       "        [0.63648421, 0.85274811, 0.13940138]],\n",
       "\n",
       "       [[0.16151184, 0.53160062, 0.10034509],\n",
       "        [0.14605641, 0.06705351, 0.10172971],\n",
       "        [0.22813935, 0.34545065, 0.97949531]],\n",
       "\n",
       "       [[0.61024911, 0.687209  , 0.25189897],\n",
       "        [0.5916384 , 0.69908792, 0.4345696 ],\n",
       "        [0.24720322, 0.85149162, 0.56457845]]])"
      ]
     },
     "execution_count": 13,
     "metadata": {},
     "output_type": "execute_result"
    }
   ],
   "source": [
    "np.random.random((3,3,3))"
   ]
  },
  {
   "cell_type": "code",
   "execution_count": null,
   "id": "75883015",
   "metadata": {},
   "outputs": [],
   "source": [
    "#9. Create a 10x10 array with random values and find the minimum and maximum values (★☆☆)\n",
    "#`hint: min, max`"
   ]
  },
  {
   "cell_type": "code",
   "execution_count": 21,
   "id": "5166f3d4",
   "metadata": {},
   "outputs": [
    {
     "name": "stdout",
     "output_type": "stream",
     "text": [
      "[[0.19011019 0.48267006 0.17700554 0.07840225 0.23841214 0.78793288\n",
      "  0.46218586 0.50317689 0.33875368 0.80250635]\n",
      " [0.0809534  0.11611667 0.6588023  0.49245968 0.45256509 0.50602113\n",
      "  0.85666642 0.2732596  0.1178414  0.12119409]\n",
      " [0.17553197 0.88360945 0.73877003 0.30321566 0.11047062 0.3597222\n",
      "  0.65935772 0.46405505 0.64056321 0.72971437]\n",
      " [0.95223002 0.35130886 0.21194313 0.32260805 0.69874844 0.98661398\n",
      "  0.31809373 0.40730086 0.63474102 0.44741666]\n",
      " [0.68316106 0.80487429 0.04296298 0.28543852 0.46445499 0.30198676\n",
      "  0.73731906 0.2843071  0.32931362 0.64408418]\n",
      " [0.75538586 0.18215795 0.10629671 0.55607006 0.02349132 0.46192268\n",
      "  0.82109795 0.13452383 0.9368348  0.65332893]\n",
      " [0.50045865 0.8829916  0.79436897 0.67428725 0.88110593 0.82438923\n",
      "  0.7861897  0.25876216 0.44351195 0.75610317]\n",
      " [0.50249254 0.63320849 0.44275722 0.95304794 0.79277399 0.18392603\n",
      "  0.53469773 0.50258981 0.01923761 0.69807365]\n",
      " [0.15422585 0.68210778 0.85590342 0.90722507 0.38068207 0.90067057\n",
      "  0.50789588 0.61913402 0.66535605 0.51611945]\n",
      " [0.30434822 0.09745972 0.08718098 0.33891638 0.27772897 0.87473678\n",
      "  0.53533857 0.71236575 0.87339356 0.96238923]]\n"
     ]
    }
   ],
   "source": [
    "x = np.random.random((10,10))\n",
    "print(x)"
   ]
  },
  {
   "cell_type": "code",
   "execution_count": 22,
   "id": "f264bec6",
   "metadata": {},
   "outputs": [
    {
     "data": {
      "text/plain": [
       "0.019237607797813916"
      ]
     },
     "execution_count": 22,
     "metadata": {},
     "output_type": "execute_result"
    }
   ],
   "source": [
    "np.min(x)"
   ]
  },
  {
   "cell_type": "code",
   "execution_count": 23,
   "id": "ea1de343",
   "metadata": {},
   "outputs": [
    {
     "data": {
      "text/plain": [
       "0.9866139754521112"
      ]
     },
     "execution_count": 23,
     "metadata": {},
     "output_type": "execute_result"
    }
   ],
   "source": [
    "np.max(x)"
   ]
  },
  {
   "cell_type": "code",
   "execution_count": null,
   "id": "bc036244",
   "metadata": {},
   "outputs": [],
   "source": [
    "#10. Create a random vector of size 30 and find the mean value (★☆☆)\n",
    "#`hint: mean`"
   ]
  },
  {
   "cell_type": "code",
   "execution_count": 25,
   "id": "8967792c",
   "metadata": {},
   "outputs": [
    {
     "name": "stdout",
     "output_type": "stream",
     "text": [
      "[0.02143941 0.63644379 0.17190381 0.62253492 0.55338488 0.43172573\n",
      " 0.15803617 0.60143069 0.60761485 0.30348982 0.97285936 0.81251427\n",
      " 0.09765966 0.50934786 0.93523224 0.25505254 0.47137568 0.44726475\n",
      " 0.23332323 0.09328269 0.6960717  0.47994603 0.33739504 0.7878427\n",
      " 0.87971369 0.98484019 0.01505166 0.40027779 0.22437886 0.19017054]\n"
     ]
    }
   ],
   "source": [
    "x = np.random.random(30)\n",
    "print(x)"
   ]
  },
  {
   "cell_type": "code",
   "execution_count": 26,
   "id": "7a26f188",
   "metadata": {},
   "outputs": [
    {
     "data": {
      "text/plain": [
       "0.46438681725250935"
      ]
     },
     "execution_count": 26,
     "metadata": {},
     "output_type": "execute_result"
    }
   ],
   "source": [
    "np.mean(x)"
   ]
  },
  {
   "cell_type": "code",
   "execution_count": null,
   "id": "4cb21f76",
   "metadata": {},
   "outputs": [],
   "source": [
    "#11. Create a 5x5 matrix with values 1,2,3,4 just below the diagonal (★☆☆)\n",
    "#`hint: np.diag`"
   ]
  },
  {
   "cell_type": "code",
   "execution_count": 28,
   "id": "70dddb9f",
   "metadata": {},
   "outputs": [
    {
     "data": {
      "text/plain": [
       "array([[1, 0, 0, 0, 0],\n",
       "       [0, 2, 0, 0, 0],\n",
       "       [0, 0, 3, 0, 0],\n",
       "       [0, 0, 0, 4, 0],\n",
       "       [0, 0, 0, 0, 5]])"
      ]
     },
     "execution_count": 28,
     "metadata": {},
     "output_type": "execute_result"
    }
   ],
   "source": [
    "np.diag([1, 2, 3, 4, 5])"
   ]
  },
  {
   "cell_type": "code",
   "execution_count": null,
   "id": "679e7239",
   "metadata": {},
   "outputs": [],
   "source": []
  },
  {
   "cell_type": "code",
   "execution_count": null,
   "id": "87634fbc",
   "metadata": {},
   "outputs": [],
   "source": [
    "#12. Normalize a 5x5 random matrix (★☆☆)\n",
    "#`hint: (x -mean)/std`"
   ]
  },
  {
   "cell_type": "code",
   "execution_count": 30,
   "id": "d6b0489e",
   "metadata": {},
   "outputs": [
    {
     "name": "stdout",
     "output_type": "stream",
     "text": [
      "[[0.4623158  0.71287639 0.7760715  0.48562833 0.80700501]\n",
      " [0.05777193 0.1218849  0.68524062 0.03552782 0.57458786]\n",
      " [0.44990391 0.89494553 0.73457591 0.64001132 0.67841576]\n",
      " [0.86959368 0.87989866 0.38914891 0.71138397 0.12937821]\n",
      " [0.07957265 0.30038831 0.88082921 0.46274725 0.39812737]]\n"
     ]
    }
   ],
   "source": [
    "x = np.random.random((5,5))\n",
    "print(x)"
   ]
  },
  {
   "cell_type": "code",
   "execution_count": 32,
   "id": "a261b954",
   "metadata": {},
   "outputs": [
    {
     "name": "stdout",
     "output_type": "stream",
     "text": [
      "[[0.49660132 0.78814826 0.86168073 0.52372729 0.8976743 ]\n",
      " [0.02588277 0.10048324 0.75599187 0.         0.62723868]\n",
      " [0.48215911 1.         0.81339735 0.70336402 0.7480506 ]\n",
      " [0.97050112 0.98249178 0.41146591 0.7864117  0.10920229]\n",
      " [0.05124961 0.30818598 0.98357455 0.49710335 0.42191305]]\n"
     ]
    }
   ],
   "source": [
    "xmax, xmin = x.max(), x.min()\n",
    "x = (x - xmin)/(xmax - xmin) #i didn't use the hint\n",
    "print(x)"
   ]
  },
  {
   "cell_type": "code",
   "execution_count": null,
   "id": "080e567c",
   "metadata": {},
   "outputs": [],
   "source": [
    "#13. How to find common values between two arrays? (★☆☆)\n",
    "#`hint: np.intersect1d`"
   ]
  },
  {
   "cell_type": "code",
   "execution_count": 34,
   "id": "e836a392",
   "metadata": {},
   "outputs": [
    {
     "data": {
      "text/plain": [
       "array([5])"
      ]
     },
     "execution_count": 34,
     "metadata": {},
     "output_type": "execute_result"
    }
   ],
   "source": [
    "array1 = [4, 5, 5, 6,]\n",
    "array2 = [1, 2, 5, 7]\n",
    "np.intersect1d(array1, array2)"
   ]
  },
  {
   "cell_type": "code",
   "execution_count": null,
   "id": "bbdbfdbc",
   "metadata": {},
   "outputs": [],
   "source": [
    "#14. Create a random vector of size 10 and sort it (★★☆)\n",
    "#`hint: sort`"
   ]
  },
  {
   "cell_type": "code",
   "execution_count": 35,
   "id": "1976ffe8",
   "metadata": {},
   "outputs": [
    {
     "name": "stdout",
     "output_type": "stream",
     "text": [
      "[0.87329532 0.66552016 0.97370933 0.06136238 0.99268554 0.55109768\n",
      " 0.29464112 0.24056077 0.88802995 0.69130792]\n"
     ]
    }
   ],
   "source": [
    "x = np.random.random(10)\n",
    "print(x)"
   ]
  },
  {
   "cell_type": "code",
   "execution_count": 36,
   "id": "0dfb3154",
   "metadata": {},
   "outputs": [
    {
     "data": {
      "text/plain": [
       "array([0.06136238, 0.24056077, 0.29464112, 0.55109768, 0.66552016,\n",
       "       0.69130792, 0.87329532, 0.88802995, 0.97370933, 0.99268554])"
      ]
     },
     "execution_count": 36,
     "metadata": {},
     "output_type": "execute_result"
    }
   ],
   "source": [
    "np.sort(x)"
   ]
  },
  {
   "cell_type": "code",
   "execution_count": null,
   "id": "9f5bc2fa",
   "metadata": {},
   "outputs": [],
   "source": [
    "#15. Create random vector of size 10 and replace the maximum value by 0 (★★☆)\n",
    "#`hint: argmax`"
   ]
  },
  {
   "cell_type": "code",
   "execution_count": 37,
   "id": "cf971c63",
   "metadata": {},
   "outputs": [
    {
     "name": "stdout",
     "output_type": "stream",
     "text": [
      "[0.14969826 0.12540543 0.81088809 0.76288662 0.32577078 0.46935682\n",
      " 0.90685051 0.80049853 0.65837163 0.26050391]\n"
     ]
    }
   ],
   "source": [
    "x = np.random.random(10)\n",
    "print(x)"
   ]
  },
  {
   "cell_type": "code",
   "execution_count": 38,
   "id": "b273cd60",
   "metadata": {},
   "outputs": [
    {
     "data": {
      "text/plain": [
       "6"
      ]
     },
     "execution_count": 38,
     "metadata": {},
     "output_type": "execute_result"
    }
   ],
   "source": [
    "np.argmax(x)"
   ]
  },
  {
   "cell_type": "code",
   "execution_count": 11,
   "id": "d21453f8",
   "metadata": {},
   "outputs": [
    {
     "name": "stdout",
     "output_type": "stream",
     "text": [
      "[0.5747404  0.49001537 0.88942317 0.28513605 0.84602044 0.\n",
      " 0.36118038 0.91102742 0.31730822 0.81561208]\n"
     ]
    }
   ],
   "source": [
    "randomarray = np.random.random(10)\n",
    "randomarray[np.argmax(randomarray)] = 0\n",
    "print(randomarray)"
   ]
  },
  {
   "cell_type": "code",
   "execution_count": null,
   "id": "f1b2a938",
   "metadata": {},
   "outputs": [],
   "source": []
  },
  {
   "cell_type": "code",
   "execution_count": null,
   "id": "3c2e7b82",
   "metadata": {},
   "outputs": [],
   "source": [
    "#16. Subtract the mean of each row of a matrix (★★☆)\n",
    "#`hint: mean(axis=,keepdims=)`"
   ]
  },
  {
   "cell_type": "code",
   "execution_count": null,
   "id": "ba9aac1a",
   "metadata": {},
   "outputs": [],
   "source": [
    "x = np.random.random(10)\n"
   ]
  },
  {
   "cell_type": "code",
   "execution_count": 15,
   "id": "9684f11d",
   "metadata": {},
   "outputs": [
    {
     "name": "stdout",
     "output_type": "stream",
     "text": [
      "[[-3.         -2.          5.        ]\n",
      " [ 0.33333333  0.33333333 -0.66666667]\n",
      " [ 0.         -4.          4.        ]]\n"
     ]
    }
   ],
   "source": [
    "randomThreebyThree = np.random.randint(0,10,(3,3))\n",
    "#print(randomThreebyThree)\n",
    "meansbyrow = np.mean(randomThreebyThree, keepdims=True, axis=1)\n",
    "#print(meansbyrow)\n",
    "print(randomThreebyThree - meansbyrow )"
   ]
  },
  {
   "cell_type": "code",
   "execution_count": null,
   "id": "480af6a3",
   "metadata": {},
   "outputs": [],
   "source": [
    "#17. How to get the n largest values of an array (★★★)\n",
    "#`Z = np.arange(10000)\n",
    "#np.random.shuffle(Z)\n",
    "#n = 5\n",
    "#hint: np.argsort | np.argpartition`"
   ]
  },
  {
   "cell_type": "code",
   "execution_count": null,
   "id": "c21cd628",
   "metadata": {},
   "outputs": [],
   "source": []
  },
  {
   "cell_type": "code",
   "execution_count": null,
   "id": "d3e04d88",
   "metadata": {},
   "outputs": [],
   "source": [
    "#18. Create a random 5*3 matrix and replace items that are larger than 4 by their squares ( Example:  6 --> 36) \n",
    "#`hint: np.where`"
   ]
  },
  {
   "cell_type": "code",
   "execution_count": null,
   "id": "22cacf9b",
   "metadata": {},
   "outputs": [],
   "source": []
  },
  {
   "cell_type": "code",
   "execution_count": null,
   "id": "7933bdb5",
   "metadata": {},
   "outputs": [],
   "source": []
  },
  {
   "cell_type": "code",
   "execution_count": null,
   "id": "1efeab28",
   "metadata": {},
   "outputs": [],
   "source": []
  },
  {
   "cell_type": "markdown",
   "id": "30064912",
   "metadata": {},
   "source": [
    "\n"
   ]
  }
 ],
 "metadata": {
  "kernelspec": {
   "display_name": "Python 3 (ipykernel)",
   "language": "python",
   "name": "python3"
  },
  "language_info": {
   "codemirror_mode": {
    "name": "ipython",
    "version": 3
   },
   "file_extension": ".py",
   "mimetype": "text/x-python",
   "name": "python",
   "nbconvert_exporter": "python",
   "pygments_lexer": "ipython3",
   "version": "3.10.9"
  }
 },
 "nbformat": 4,
 "nbformat_minor": 5
}
