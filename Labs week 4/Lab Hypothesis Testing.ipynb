{
 "cells": [
  {
   "cell_type": "code",
   "execution_count": 1,
   "id": "e3189913",
   "metadata": {},
   "outputs": [],
   "source": [
    "import numpy as np\n",
    "import pandas as pd\n",
    "import scipy.stats as stats\n",
    "import matplotlib.pyplot as plt\n",
    "import seaborn as sns\n",
    "\n",
    "%matplotlib inline"
   ]
  },
  {
   "cell_type": "markdown",
   "id": "2f819479",
   "metadata": {},
   "source": [
    "It is assumed that the mean systolic blood pressure is μ = 120 mm Hg. In the Honolulu Heart Study, a sample of n = 100 people had an average systolic blood pressure of 130.1 mm Hg with a standard deviation of 21.21 mm Hg. Is the group significantly different (with respect to systolic blood pressure!) from the regular population?\n",
    "\n",
    "Set up the hypothesis test.\n",
    "Write down all the steps followed for setting up the test.\n",
    "Calculate the test statistic by hand and also code it in Python. It should be 4.76190. What decision can you make based on this calculated value?"
   ]
  },
  {
   "cell_type": "code",
   "execution_count": 5,
   "id": "fe36f5c5",
   "metadata": {},
   "outputs": [],
   "source": [
    "#step 1: : Define the null and alternate hypothesis\n",
    "\n",
    "# H0: bp < 120\n",
    "# H1: bp > 130.1"
   ]
  },
  {
   "cell_type": "markdown",
   "id": "ff51190c",
   "metadata": {},
   "source": [
    "We use the t-test because we don't know the standard deviation of the population: "
   ]
  },
  {
   "cell_type": "code",
   "execution_count": 2,
   "id": "7835fa7d",
   "metadata": {},
   "outputs": [],
   "source": [
    "# The mean of our sample is:\n",
    "honolulu_mean = 130.1\n",
    "honolulu_standard_deviation = 21.21\n",
    "\n",
    "#The mean of the population is: \n",
    "\n",
    "pop_mean = 120 \n",
    "n = 100"
   ]
  },
  {
   "cell_type": "code",
   "execution_count": 3,
   "id": "9249444b",
   "metadata": {},
   "outputs": [
    {
     "data": {
      "text/plain": [
       "4.761904761904759"
      ]
     },
     "execution_count": 3,
     "metadata": {},
     "output_type": "execute_result"
    }
   ],
   "source": [
    "t = (honolulu_mean - pop_mean) / (honolulu_standard_deviation / (n**0.5))\n",
    "t"
   ]
  },
  {
   "cell_type": "code",
   "execution_count": 4,
   "id": "15754ff5",
   "metadata": {},
   "outputs": [
    {
     "data": {
      "text/plain": [
       "1.9842169515086827"
      ]
     },
     "execution_count": 4,
     "metadata": {},
     "output_type": "execute_result"
    }
   ],
   "source": [
    "tc = stats.t.ppf(0.975, df = 99) \n",
    "tc"
   ]
  },
  {
   "cell_type": "code",
   "execution_count": null,
   "id": "7e724e17",
   "metadata": {},
   "outputs": [],
   "source": [
    "#TC is biger than tc then we reject our null hypothesis. \n"
   ]
  },
  {
   "cell_type": "code",
   "execution_count": null,
   "id": "d542fb4e",
   "metadata": {},
   "outputs": [],
   "source": [
    " "
   ]
  },
  {
   "cell_type": "code",
   "execution_count": null,
   "id": "2a1c5042",
   "metadata": {},
   "outputs": [],
   "source": []
  }
 ],
 "metadata": {
  "kernelspec": {
   "display_name": "Python 3 (ipykernel)",
   "language": "python",
   "name": "python3"
  },
  "language_info": {
   "codemirror_mode": {
    "name": "ipython",
    "version": 3
   },
   "file_extension": ".py",
   "mimetype": "text/x-python",
   "name": "python",
   "nbconvert_exporter": "python",
   "pygments_lexer": "ipython3",
   "version": "3.10.9"
  }
 },
 "nbformat": 4,
 "nbformat_minor": 5
}
