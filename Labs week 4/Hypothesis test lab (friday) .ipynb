{
 "cells": [
  {
   "cell_type": "markdown",
   "id": "0b65c234",
   "metadata": {},
   "source": [
    "Optional\n",
    "In a packing plant, a machine packs cartons with jars. It is supposed that a new machine will pack faster on the average than the machine currently used. To test that hypothesis, the times it takes each machine to pack ten cartons are recorded. The results, in seconds, are shown in the tables in the file Data/machine.txt. Assume that there is sufficient evidence to conduct the t test, does the data provide sufficient evidence to show if one machine is better than the other.\n",
    "Hint: use two sample t-test\n",
    "\n",
    "t= (sample_mean(x1) - sample_mean(x2)) / sqrt(square(s1)/n1 + square(s2)/n2 )"
   ]
  },
  {
   "cell_type": "code",
   "execution_count": null,
   "id": "5e2772aa",
   "metadata": {},
   "outputs": [],
   "source": []
  },
  {
   "cell_type": "code",
   "execution_count": null,
   "id": "5b389865",
   "metadata": {},
   "outputs": [],
   "source": [
    "New_Machine = [42.1,41,41.3,41.8,42.4,42.8,43.2,42.3,41.8,42.7]\n",
    "Old_Machine = [42.7,43.6,43.8,43.3,42.5,43.5,43.1,41.7,44,44.1]"
   ]
  },
  {
   "cell_type": "code",
   "execution_count": null,
   "id": "a5bd615d",
   "metadata": {},
   "outputs": [],
   "source": [
    "mean_new = np.average(New_Machine)\n",
    "mean_old = np.average(Old_Machine)"
   ]
  },
  {
   "cell_type": "code",
   "execution_count": null,
   "id": "1392fe1c",
   "metadata": {},
   "outputs": [],
   "source": [
    "std_dev_new = np.std(New_Machine)\n",
    "std_dev_old = np.std(Old_Machine)"
   ]
  },
  {
   "cell_type": "code",
   "execution_count": null,
   "id": "e02d166f",
   "metadata": {},
   "outputs": [],
   "source": [
    "tc = stats.t.ppf(0.975, df=18)\n",
    "print(\"The critical value is =\",tc)"
   ]
  },
  {
   "cell_type": "code",
   "execution_count": null,
   "id": "6b70f886",
   "metadata": {},
   "outputs": [],
   "source": [
    "n1 = 10\n",
    "n2 = 10\n",
    "t= (mean_old - mean_new) / np.sqrt(np.square(std_dev_old)/n1 + np.square(std_dev_new)/n2 )\n",
    "t"
   ]
  }
 ],
 "metadata": {
  "kernelspec": {
   "display_name": "Python 3 (ipykernel)",
   "language": "python",
   "name": "python3"
  },
  "language_info": {
   "codemirror_mode": {
    "name": "ipython",
    "version": 3
   },
   "file_extension": ".py",
   "mimetype": "text/x-python",
   "name": "python",
   "nbconvert_exporter": "python",
   "pygments_lexer": "ipython3",
   "version": "3.10.9"
  }
 },
 "nbformat": 4,
 "nbformat_minor": 5
}
